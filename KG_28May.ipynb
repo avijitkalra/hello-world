{
  "nbformat": 4,
  "nbformat_minor": 0,
  "metadata": {
    "colab": {
      "name": "KG_28May.ipynb",
      "provenance": [],
      "authorship_tag": "ABX9TyM6rXvShKq+kZSJ1zDfLlJO",
      "include_colab_link": true
    },
    "kernelspec": {
      "name": "python3",
      "display_name": "Python 3"
    }
  },
  "cells": [
    {
      "cell_type": "markdown",
      "metadata": {
        "id": "view-in-github",
        "colab_type": "text"
      },
      "source": [
        "<a href=\"https://colab.research.google.com/github/avijitkalra/hello-world/blob/master/KG_28May.ipynb\" target=\"_parent\"><img src=\"https://colab.research.google.com/assets/colab-badge.svg\" alt=\"Open In Colab\"/></a>"
      ]
    },
    {
      "cell_type": "code",
      "metadata": {
        "id": "_7GKGfWaLM-l",
        "colab_type": "code",
        "colab": {}
      },
      "source": [
        "import networkx as nx"
      ],
      "execution_count": 0,
      "outputs": []
    },
    {
      "cell_type": "markdown",
      "metadata": {
        "id": "Coaw42AW9sqU",
        "colab_type": "text"
      },
      "source": [
        "**Importing (Creating) nodes from pandas dataframe**"
      ]
    },
    {
      "cell_type": "code",
      "metadata": {
        "id": "bnZjCjjHtc45",
        "colab_type": "code",
        "colab": {}
      },
      "source": [
        "import pandas as pd\n",
        "import numpy as np\n",
        "\n",
        "edges = pd.DataFrame({'source' : [0,1,1],\n",
        "                      'target' : [1,2,3],\n",
        "                      'weight' : [100,50,50]})\n",
        "\n",
        "nodes = pd.DataFrame({'node' : [0,1,2,3],\n",
        "                      'concept' : ['Triangle', 'Square', 'Congruency', 'Addition'],\n",
        "                      'skills' : [[0.3,0.4,0.1], [0.6,0.1,0.9], [0.9,0.5,0.5],  [0.6,0.1,0.5]]})\n",
        "\n",
        "\n",
        "G = nx.from_pandas_edgelist(edges, 'source', 'target', 'weight',create_using=nx.DiGraph())"
      ],
      "execution_count": 0,
      "outputs": []
    },
    {
      "cell_type": "markdown",
      "metadata": {
        "id": "dT6vFFZuBddq",
        "colab_type": "text"
      },
      "source": [
        "**Note:** Neighbour relationship type can be added as an addtional attribute above, but that will have to be done manually, alternatively, children/parents can be printed for any node using the predecessors() / successors() functions. Relationship types can also be viewed using nx.draw(), which plots the KG."
      ]
    },
    {
      "cell_type": "code",
      "metadata": {
        "id": "HLoubL4v3-ds",
        "colab_type": "code",
        "colab": {}
      },
      "source": [
        "nx.set_node_attributes(G, pd.Series(nodes.concept, index=nodes.node).to_dict(),'concept')\n",
        "nx.set_node_attributes(G, pd.Series(nodes.skills, index=nodes.node).to_dict(),'skills')"
      ],
      "execution_count": 0,
      "outputs": []
    },
    {
      "cell_type": "markdown",
      "metadata": {
        "id": "wVIxonqUA4XI",
        "colab_type": "text"
      },
      "source": [
        "**Drawing and Printing Nodes**"
      ]
    },
    {
      "cell_type": "code",
      "metadata": {
        "id": "cuz8l8pW3FsG",
        "colab_type": "code",
        "colab": {
          "base_uri": "https://localhost:8080/",
          "height": 356
        },
        "outputId": "124809f5-d5ad-4ca6-e6c0-40a01a15b8cd"
      },
      "source": [
        "nx.draw(G,with_labels=True)\n",
        "G.nodes(data=True)"
      ],
      "execution_count": 4,
      "outputs": [
        {
          "output_type": "execute_result",
          "data": {
            "text/plain": [
              "NodeDataView({0: {'concept': 'Triangle', 'skills': [0.3, 0.4, 0.1]}, 1: {'concept': 'Square', 'skills': [0.6, 0.1, 0.9]}, 2: {'concept': 'Congruency', 'skills': [0.9, 0.5, 0.5]}, 3: {'concept': 'Addition', 'skills': [0.6, 0.1, 0.5]}})"
            ]
          },
          "metadata": {
            "tags": []
          },
          "execution_count": 4
        },
        {
          "output_type": "display_data",
          "data": {
            "image/png": "[encoded data removed]",
            "text/plain": [
              "<Figure size 432x288 with 1 Axes>"
            ]
          },
          "metadata": {
            "tags": []
          }
        }
      ]
    },
    {
      "cell_type": "markdown",
      "metadata": {
        "id": "wAFoxWmL-pyI",
        "colab_type": "text"
      },
      "source": [
        "**Editing Node Attributes**"
      ]
    },
    {
      "cell_type": "code",
      "metadata": {
        "id": "Fp5mHu4K-PFo",
        "colab_type": "code",
        "colab": {
          "base_uri": "https://localhost:8080/",
          "height": 54
        },
        "outputId": "f07aa01c-4400-4d9f-a529-3cdeaf2fe7c2"
      },
      "source": [
        "G.add_node(1, concept=\"Circle\",skills=[0.2,0.7,0.5])\n",
        "G.nodes(data=True)"
      ],
      "execution_count": 5,
      "outputs": [
        {
          "output_type": "execute_result",
          "data": {
            "text/plain": [
              "NodeDataView({0: {'concept': 'Triangle', 'skills': [0.3, 0.4, 0.1]}, 1: {'concept': 'Circle', 'skills': [0.2, 0.7, 0.5]}, 2: {'concept': 'Congruency', 'skills': [0.9, 0.5, 0.5]}, 3: {'concept': 'Addition', 'skills': [0.6, 0.1, 0.5]}})"
            ]
          },
          "metadata": {
            "tags": []
          },
          "execution_count": 5
        }
      ]
    },
    {
      "cell_type": "markdown",
      "metadata": {
        "id": "qyF7gsJa-yvh",
        "colab_type": "text"
      },
      "source": [
        "**Deleting a node**"
      ]
    },
    {
      "cell_type": "code",
      "metadata": {
        "id": "kC9qhA7z-2y_",
        "colab_type": "code",
        "colab": {
          "base_uri": "https://localhost:8080/",
          "height": 34
        },
        "outputId": "b32671fd-0df2-4718-8202-7c1081863707"
      },
      "source": [
        "G.remove_node(2)\n",
        "G.nodes(data=True)"
      ],
      "execution_count": 6,
      "outputs": [
        {
          "output_type": "execute_result",
          "data": {
            "text/plain": [
              "NodeDataView({0: {'concept': 'Triangle', 'skills': [0.3, 0.4, 0.1]}, 1: {'concept': 'Circle', 'skills': [0.2, 0.7, 0.5]}, 3: {'concept': 'Addition', 'skills': [0.6, 0.1, 0.5]}})"
            ]
          },
          "metadata": {
            "tags": []
          },
          "execution_count": 6
        }
      ]
    },
    {
      "cell_type": "markdown",
      "metadata": {
        "id": "6cay0S6R_8cn",
        "colab_type": "text"
      },
      "source": [
        "**BFS**"
      ]
    },
    {
      "cell_type": "markdown",
      "metadata": {
        "id": "s8IW_OyOAJJp",
        "colab_type": "text"
      },
      "source": [
        "**Pt. I- Listing edges**"
      ]
    },
    {
      "cell_type": "code",
      "metadata": {
        "id": "e8adqMEl_7AU",
        "colab_type": "code",
        "colab": {
          "base_uri": "https://localhost:8080/",
          "height": 34
        },
        "outputId": "ae971e26-166a-4f87-f26b-9b285c1ab498"
      },
      "source": [
        "list(nx.bfs_edges(G, source=0, depth_limit=1))"
      ],
      "execution_count": 7,
      "outputs": [
        {
          "output_type": "execute_result",
          "data": {
            "text/plain": [
              "[(0, 1)]"
            ]
          },
          "metadata": {
            "tags": []
          },
          "execution_count": 7
        }
      ]
    },
    {
      "cell_type": "code",
      "metadata": {
        "id": "ZTpPCugTAD57",
        "colab_type": "code",
        "colab": {
          "base_uri": "https://localhost:8080/",
          "height": 34
        },
        "outputId": "30124fbf-1e06-4c9d-ffa4-fc7f7487e7e6"
      },
      "source": [
        "list(nx.bfs_edges(G, source=0))"
      ],
      "execution_count": 8,
      "outputs": [
        {
          "output_type": "execute_result",
          "data": {
            "text/plain": [
              "[(0, 1), (1, 3)]"
            ]
          },
          "metadata": {
            "tags": []
          },
          "execution_count": 8
        }
      ]
    },
    {
      "cell_type": "markdown",
      "metadata": {
        "id": "3djnfKQTAQWV",
        "colab_type": "text"
      },
      "source": [
        "**Pt. II- Listing nodes visited**"
      ]
    },
    {
      "cell_type": "code",
      "metadata": {
        "id": "ko1v_SVxAXRI",
        "colab_type": "code",
        "colab": {
          "base_uri": "https://localhost:8080/",
          "height": 34
        },
        "outputId": "59ab53ee-1e1c-4761-c015-1c5d41e789ab"
      },
      "source": [
        "root = 3\n",
        "edges = nx.bfs_edges(G, root)\n",
        "nodes = [root] + [v for u, v in edges]\n",
        "nodes"
      ],
      "execution_count": 9,
      "outputs": [
        {
          "output_type": "execute_result",
          "data": {
            "text/plain": [
              "[3]"
            ]
          },
          "metadata": {
            "tags": []
          },
          "execution_count": 9
        }
      ]
    },
    {
      "cell_type": "code",
      "metadata": {
        "id": "2yEsrdxEAuou",
        "colab_type": "code",
        "colab": {
          "base_uri": "https://localhost:8080/",
          "height": 34
        },
        "outputId": "53064951-f571-4346-ef81-05e888ca3539"
      },
      "source": [
        "root = 0\n",
        "edges = nx.bfs_edges(G, root)\n",
        "nodes = [root] + [v for u, v in edges]\n",
        "nodes"
      ],
      "execution_count": 10,
      "outputs": [
        {
          "output_type": "execute_result",
          "data": {
            "text/plain": [
              "[0, 1, 3]"
            ]
          },
          "metadata": {
            "tags": []
          },
          "execution_count": 10
        }
      ]
    }
  ]
}